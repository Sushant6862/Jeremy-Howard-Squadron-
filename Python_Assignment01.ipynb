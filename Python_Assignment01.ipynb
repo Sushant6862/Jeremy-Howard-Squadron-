{
  "nbformat": 4,
  "nbformat_minor": 0,
  "metadata": {
    "colab": {
      "provenance": [],
      "authorship_tag": "ABX9TyOXDUrNLG/bCKBXSgrQYoNA",
      "include_colab_link": true
    },
    "kernelspec": {
      "name": "python3",
      "display_name": "Python 3"
    },
    "language_info": {
      "name": "python"
    }
  },
  "cells": [
    {
      "cell_type": "markdown",
      "metadata": {
        "id": "view-in-github",
        "colab_type": "text"
      },
      "source": [
        "<a href=\"https://colab.research.google.com/github/Sushant6862/Jeremy-Howard-Squadron-/blob/main/Python_Assignment01.ipynb\" target=\"_parent\"><img src=\"https://colab.research.google.com/assets/colab-badge.svg\" alt=\"Open In Colab\"/></a>"
      ]
    },
    {
      "cell_type": "code",
      "execution_count": 2,
      "metadata": {
        "id": "ag8uztz-pgV7"
      },
      "outputs": [],
      "source": [
        "import pandas as pd\n"
      ]
    },
    {
      "cell_type": "markdown",
      "source": [
        "# Problem 01\n"
      ],
      "metadata": {
        "id": "IzUfSqHqqtY8"
      }
    },
    {
      "cell_type": "code",
      "source": [
        "\n",
        "\n",
        "w=4;\n",
        "l=0;\n",
        "d=1;\n",
        "\n",
        "# Calculate the total points gained by Team Aravali\n",
        "\n",
        "aravali_points=(4*3+3*0+1*1);\n",
        "print(\"The total points gained by Team Aravali :\",aravali_points);\n"
      ],
      "metadata": {
        "colab": {
          "base_uri": "https://localhost:8080/"
        },
        "id": "cmVriTAppx6P",
        "outputId": "57163dc0-a2dc-44d5-9300-1237b8940f1a"
      },
      "execution_count": 5,
      "outputs": [
        {
          "output_type": "stream",
          "name": "stdout",
          "text": [
            "The total points gained by Team Aravali : 13\n"
          ]
        }
      ]
    },
    {
      "cell_type": "code",
      "source": [
        "# Print the variable aravali_points\n",
        "print(\"aravali_points =\",aravali_points)"
      ],
      "metadata": {
        "colab": {
          "base_uri": "https://localhost:8080/"
        },
        "id": "5-YA9dKuqnVk",
        "outputId": "58d7dee5-31a1-45db-e123-90caf6ddc372"
      },
      "execution_count": 6,
      "outputs": [
        {
          "output_type": "stream",
          "name": "stdout",
          "text": [
            "aravali_points = 13\n"
          ]
        }
      ]
    },
    {
      "cell_type": "markdown",
      "source": [
        "#Problem 02"
      ],
      "metadata": {
        "id": "NMjKLz_ksOMP"
      }
    },
    {
      "cell_type": "code",
      "source": [
        "# quadratic function f(x)=x^2+3x-4\n",
        "\n",
        "# Calculate the value of the function f(x) at x = 2\n",
        "func_evaluated_at_2 =2**2+(3*2)-4;\n",
        "print(\"func_evaluated_at_2=\",func_evaluated_at_2);\n"
      ],
      "metadata": {
        "colab": {
          "base_uri": "https://localhost:8080/"
        },
        "id": "uyfaEA0psG_k",
        "outputId": "6d57db6a-31e8-44d3-d880-807742cc4216"
      },
      "execution_count": 10,
      "outputs": [
        {
          "output_type": "stream",
          "name": "stdout",
          "text": [
            "func_evaluated_at_2= 6\n"
          ]
        }
      ]
    },
    {
      "cell_type": "code",
      "source": [
        "# Calculate the value of the function f(x) at x = -1\n",
        "func_evaluated_at_minus1 =(-1)**2+(3*(-1)-4);\n",
        "print(\"func_evaluated_at_minus1=\",func_evaluated_at_minus1);\n"
      ],
      "metadata": {
        "colab": {
          "base_uri": "https://localhost:8080/"
        },
        "id": "Ae20pAulvgBp",
        "outputId": "a1fc0526-fd52-4ba5-ed7b-658dded70a24"
      },
      "execution_count": 11,
      "outputs": [
        {
          "output_type": "stream",
          "name": "stdout",
          "text": [
            "func_evaluated_at_minus1= -6\n"
          ]
        }
      ]
    },
    {
      "cell_type": "code",
      "source": [
        "# # Calculate the value of the function f(x) at x = 1\n",
        "func_evaluated_at_1 = 1**2+(3*1)-4;\n",
        "print(\"func_evaluated_at_1=\",func_evaluated_at_1);\n"
      ],
      "metadata": {
        "colab": {
          "base_uri": "https://localhost:8080/"
        },
        "id": "JRj2XU2evgRv",
        "outputId": "9f5e59f4-eee9-4130-d755-8a8b041dcb06"
      },
      "execution_count": 12,
      "outputs": [
        {
          "output_type": "stream",
          "name": "stdout",
          "text": [
            "func_evaluated_at_1= 0\n"
          ]
        }
      ]
    },
    {
      "cell_type": "code",
      "source": [
        "# Return the boolean for each value of to find out x whether that value is a root of f(x)\n",
        "\n",
        "# Check whether 2 is a root of f(x)\n",
        "func_evaluated_at_2 == 0\n",
        "func_evaluated_at_2=6;\n",
        "print(\"func_evaluated_at_2 == 0 is \",func_evaluated_at_2 == 0);\n"
      ],
      "metadata": {
        "colab": {
          "base_uri": "https://localhost:8080/"
        },
        "id": "6EhwpNNFyVnk",
        "outputId": "36ae7dee-126c-4504-c79a-c9b78798271d"
      },
      "execution_count": 17,
      "outputs": [
        {
          "output_type": "stream",
          "name": "stdout",
          "text": [
            "func_evaluated_at_2 == 0 is  False\n"
          ]
        }
      ]
    },
    {
      "cell_type": "code",
      "source": [
        "# Check whether -1 is a root of f(x)\n",
        "func_evaluated_at_minus1 == 0\n",
        "func_evaluated_at(-1)==-6;\n",
        "print(\"func_evaluated_at_1 == 0 is \",func_evaluated_at(-1) == 0);\n"
      ],
      "metadata": {
        "colab": {
          "base_uri": "https://localhost:8080/",
          "height": 217
        },
        "id": "LvZXCQqt0K6E",
        "outputId": "e30e4cee-2d82-477d-ca87-27f2d6cb4751"
      },
      "execution_count": 22,
      "outputs": [
        {
          "output_type": "error",
          "ename": "NameError",
          "evalue": "ignored",
          "traceback": [
            "\u001b[0;31m---------------------------------------------------------------------------\u001b[0m",
            "\u001b[0;31mNameError\u001b[0m                                 Traceback (most recent call last)",
            "\u001b[0;32m<ipython-input-22-5212dc1b7fcc>\u001b[0m in \u001b[0;36m<cell line: 3>\u001b[0;34m()\u001b[0m\n\u001b[1;32m      1\u001b[0m \u001b[0;31m# Check whether -1 is a root of f(x)\u001b[0m\u001b[0;34m\u001b[0m\u001b[0;34m\u001b[0m\u001b[0m\n\u001b[1;32m      2\u001b[0m \u001b[0mfunc_evaluated_at_minus1\u001b[0m \u001b[0;34m==\u001b[0m \u001b[0;36m0\u001b[0m\u001b[0;34m\u001b[0m\u001b[0;34m\u001b[0m\u001b[0m\n\u001b[0;32m----> 3\u001b[0;31m \u001b[0mfunc_evaluated_at\u001b[0m\u001b[0;34m(\u001b[0m\u001b[0;34m-\u001b[0m\u001b[0;36m1\u001b[0m\u001b[0;34m)\u001b[0m\u001b[0;34m==\u001b[0m\u001b[0;34m-\u001b[0m\u001b[0;36m6\u001b[0m\u001b[0;34m;\u001b[0m\u001b[0;34m\u001b[0m\u001b[0;34m\u001b[0m\u001b[0m\n\u001b[0m\u001b[1;32m      4\u001b[0m \u001b[0mprint\u001b[0m\u001b[0;34m(\u001b[0m\u001b[0;34m\"func_evaluated_at_1 == 0 is \"\u001b[0m\u001b[0;34m,\u001b[0m\u001b[0mfunc_evaluated_at\u001b[0m\u001b[0;34m(\u001b[0m\u001b[0;34m-\u001b[0m\u001b[0;36m1\u001b[0m\u001b[0;34m)\u001b[0m \u001b[0;34m==\u001b[0m \u001b[0;36m0\u001b[0m\u001b[0;34m)\u001b[0m\u001b[0;34m;\u001b[0m\u001b[0;34m\u001b[0m\u001b[0;34m\u001b[0m\u001b[0m\n",
            "\u001b[0;31mNameError\u001b[0m: name 'func_evaluated_at' is not defined"
          ]
        }
      ]
    },
    {
      "cell_type": "code",
      "source": [
        "# Check whether 1 is a root of f(x)\n",
        "func_evaluated_at_1 == 0\n",
        "func_evaluated_at_1==0;\n",
        "print(\"func_evaluated_at_1 == 0 is \",func_evaluated_at_1 == 0);\n",
        "\n"
      ],
      "metadata": {
        "colab": {
          "base_uri": "https://localhost:8080/"
        },
        "id": "OpA8kKLr1cgR",
        "outputId": "397e5999-f2b6-49e5-9037-d22ccda67745"
      },
      "execution_count": 21,
      "outputs": [
        {
          "output_type": "stream",
          "name": "stdout",
          "text": [
            "func_evaluated_at_1 == 0 is  True\n"
          ]
        }
      ]
    },
    {
      "cell_type": "code",
      "source": [],
      "metadata": {
        "id": "8AApBH0p7DYR"
      },
      "execution_count": null,
      "outputs": []
    },
    {
      "cell_type": "markdown",
      "source": [
        "# Problem 3"
      ],
      "metadata": {
        "id": "P_EjjX-H7klw"
      }
    },
    {
      "cell_type": "code",
      "source": [
        "percentage_apples=45*100/140\n",
        "print(\"percentage_apples=\",percentage_apples)\n",
        "\n"
      ],
      "metadata": {
        "colab": {
          "base_uri": "https://localhost:8080/"
        },
        "id": "5DHXaxqN7m8f",
        "outputId": "13885399-2e14-4783-8c82-550a52514fad"
      },
      "execution_count": 33,
      "outputs": [
        {
          "output_type": "stream",
          "name": "stdout",
          "text": [
            "percentage_apples= 32.142857142857146\n"
          ]
        }
      ]
    },
    {
      "cell_type": "code",
      "source": [
        "percentage_oranges=65*100/140\n",
        "print(\"percentage_oranges=\",percentage_oranges)\n"
      ],
      "metadata": {
        "colab": {
          "base_uri": "https://localhost:8080/"
        },
        "id": "yaQSfF-2BHJ2",
        "outputId": "8c791fd5-f6f1-4570-9a94-93174c7e72d5"
      },
      "execution_count": 35,
      "outputs": [
        {
          "output_type": "stream",
          "name": "stdout",
          "text": [
            "percentage_oranges= 46.42857142857143\n"
          ]
        }
      ]
    },
    {
      "cell_type": "code",
      "source": [
        "percentage_bananas=30*100/140\n",
        "print(\"percentage_bananas=\",percentage_bananas)"
      ],
      "metadata": {
        "colab": {
          "base_uri": "https://localhost:8080/"
        },
        "id": "5irRVd3PBTok",
        "outputId": "2a57b1c4-6ff2-4fce-fa8a-594343e236ca"
      },
      "execution_count": 36,
      "outputs": [
        {
          "output_type": "stream",
          "name": "stdout",
          "text": [
            "percentage_bananas= 21.428571428571427\n"
          ]
        }
      ]
    },
    {
      "cell_type": "code",
      "source": [],
      "metadata": {
        "id": "pMWLhlk9BkRX"
      },
      "execution_count": null,
      "outputs": []
    },
    {
      "cell_type": "markdown",
      "source": [
        "# Problem 04\n"
      ],
      "metadata": {
        "id": "NEP4UDGHBoU5"
      }
    },
    {
      "cell_type": "code",
      "source": [
        "Maths_Majors=30;\n",
        "Economics_Majors=45;\n",
        "Physics_Majors=25;\n",
        "\n",
        "correct_guesses_Maths_Majors=20;\n",
        "correct_guesses_Economics_Majors=30;\n",
        "correct_guesses_Physics_Majors=20;\n",
        "\n",
        "# # Print the Maths accuracy\n",
        "math_accuracy=(20/30)*100;\n",
        "print(\"math_accuracy=\",math_accuracy)\n"
      ],
      "metadata": {
        "colab": {
          "base_uri": "https://localhost:8080/"
        },
        "id": "HU-JnuCGCRdj",
        "outputId": "cd06435d-6228-41bc-9f2e-8473fac5e3a1"
      },
      "execution_count": 43,
      "outputs": [
        {
          "output_type": "stream",
          "name": "stdout",
          "text": [
            "math_accuracy= 66.66666666666666\n"
          ]
        }
      ]
    },
    {
      "cell_type": "code",
      "source": [],
      "metadata": {
        "id": "2rFn-qc1E_jU"
      },
      "execution_count": null,
      "outputs": []
    },
    {
      "cell_type": "code",
      "source": [
        "# Print the Economics accuracy\n",
        "Economics_accuracy=(30/45)*100;\n",
        "print(\"Economics_accuracy=\",Economics_accuracy)"
      ],
      "metadata": {
        "colab": {
          "base_uri": "https://localhost:8080/"
        },
        "id": "ZWsU1jKKDsvI",
        "outputId": "3719c1b6-5ba4-4c27-fab0-26b5048caf30"
      },
      "execution_count": 44,
      "outputs": [
        {
          "output_type": "stream",
          "name": "stdout",
          "text": [
            "Economics_accuracy= 66.66666666666666\n"
          ]
        }
      ]
    },
    {
      "cell_type": "code",
      "source": [
        "# # Print the Physics accuracy\n",
        "Physics_accuracy=(20/25)*100;\n",
        "print(\"Physics_accuracy=\",Physics_accuracy)"
      ],
      "metadata": {
        "colab": {
          "base_uri": "https://localhost:8080/"
        },
        "id": "qtL53z3cEuPm",
        "outputId": "42d60cf3-8309-45a2-e06f-07ccdf856c14"
      },
      "execution_count": 45,
      "outputs": [
        {
          "output_type": "stream",
          "name": "stdout",
          "text": [
            "Physics_accuracy= 80.0\n"
          ]
        }
      ]
    },
    {
      "cell_type": "code",
      "source": [
        "# # Print the overall accuracy\n",
        "overall_accurancy=((20+30+20)/(30+45+25))*100;\n",
        "print(\"overall_accurancy=\",overall_accurancy)"
      ],
      "metadata": {
        "colab": {
          "base_uri": "https://localhost:8080/"
        },
        "id": "w98SJL9vFLL0",
        "outputId": "6630fafa-0f7d-48b5-eb99-1db99a9a88cb"
      },
      "execution_count": 46,
      "outputs": [
        {
          "output_type": "stream",
          "name": "stdout",
          "text": [
            "overall_accurancy= 70.0\n"
          ]
        }
      ]
    },
    {
      "cell_type": "code",
      "source": [],
      "metadata": {
        "id": "y1KPXzjlIaKp"
      },
      "execution_count": null,
      "outputs": []
    }
  ]
}