{
  "nbformat": 4,
  "nbformat_minor": 0,
  "metadata": {
    "colab": {
      "provenance": [],
      "authorship_tag": "ABX9TyOgWhYJsfx5lGH2Rx68dPIz",
      "include_colab_link": true
    },
    "kernelspec": {
      "name": "python3",
      "display_name": "Python 3"
    },
    "language_info": {
      "name": "python"
    }
  },
  "cells": [
    {
      "cell_type": "markdown",
      "metadata": {
        "id": "view-in-github",
        "colab_type": "text"
      },
      "source": [
        "<a href=\"https://colab.research.google.com/github/Sushant6862/Jeremy-Howard-Squadron-/blob/main/Assignment_List_01.ipynb\" target=\"_parent\"><img src=\"https://colab.research.google.com/assets/colab-badge.svg\" alt=\"Open In Colab\"/></a>"
      ]
    },
    {
      "cell_type": "code",
      "execution_count": null,
      "metadata": {
        "id": "aBwovROeuj89"
      },
      "outputs": [],
      "source": []
    },
    {
      "cell_type": "markdown",
      "source": [
        "### Problem 1\n",
        "A list contains the average daily temperature(in degree Celsius) of a city over a particular week. Write a Python code to swap the highest and the lowest temperatures."
      ],
      "metadata": {
        "id": "rHrJprpuvrHG"
      }
    },
    {
      "cell_type": "code",
      "source": [
        "# A list containing average daily temperature over a week\n",
        "temperatures = [34, 40, 29, 33, 42, 37, 39 ]\n",
        "\n",
        "# The expected output\n",
        "# output_temperatures = [34, 40, 42, 33, 29, 37, 39]"
      ],
      "metadata": {
        "id": "FXRj0crzv7pI"
      },
      "execution_count": 2,
      "outputs": []
    },
    {
      "cell_type": "code",
      "source": [
        "# Store the highest temperature\n",
        "max_temp = max(temperatures)\n",
        "max_temp\n"
      ],
      "metadata": {
        "colab": {
          "base_uri": "https://localhost:8080/"
        },
        "id": "FeTaXl5DwdX0",
        "outputId": "aaf5f863-6664-4656-943a-ce56befaa49e"
      },
      "execution_count": 6,
      "outputs": [
        {
          "output_type": "execute_result",
          "data": {
            "text/plain": [
              "42"
            ]
          },
          "metadata": {},
          "execution_count": 6
        }
      ]
    },
    {
      "cell_type": "code",
      "source": [
        "# Index of the element with the highest temperature\n",
        "temperatures.sort()\n",
        "\n",
        "max_temp_index = temperatures.index(42)\n",
        "max_temp_index"
      ],
      "metadata": {
        "colab": {
          "base_uri": "https://localhost:8080/"
        },
        "id": "TzzsHMfFwdMO",
        "outputId": "9f62e3c0-f4f3-4c74-e3ed-ee5d3f729b2e"
      },
      "execution_count": 33,
      "outputs": [
        {
          "output_type": "execute_result",
          "data": {
            "text/plain": [
              "6"
            ]
          },
          "metadata": {},
          "execution_count": 33
        }
      ]
    },
    {
      "cell_type": "code",
      "source": [
        "# Store the lowest temperature\n",
        "min_temp = min(temperatures)\n",
        "min_temp\n"
      ],
      "metadata": {
        "colab": {
          "base_uri": "https://localhost:8080/"
        },
        "id": "6fwggqiC1wVK",
        "outputId": "fefe01a0-3d01-461f-8e69-f36f1729b656"
      },
      "execution_count": 34,
      "outputs": [
        {
          "output_type": "execute_result",
          "data": {
            "text/plain": [
              "29"
            ]
          },
          "metadata": {},
          "execution_count": 34
        }
      ]
    },
    {
      "cell_type": "code",
      "source": [
        "# Index of the element with the lowest temperature\n",
        "min_temp_index = temperatures.index(29)\n",
        "min_temp_index"
      ],
      "metadata": {
        "colab": {
          "base_uri": "https://localhost:8080/"
        },
        "id": "jCGWQu228Edy",
        "outputId": "1f671906-ac9a-4d88-bff3-c8bee601aef2"
      },
      "execution_count": 36,
      "outputs": [
        {
          "output_type": "execute_result",
          "data": {
            "text/plain": [
              "0"
            ]
          },
          "metadata": {},
          "execution_count": 36
        }
      ]
    },
    {
      "cell_type": "code",
      "source": [
        "# Swap the highest and the lowest temperatures\n",
        "temperatures = [34, 40, 29, 33, 42, 37, 39 ]\n",
        "temperatures.sort()\n",
        "temperatures\n",
        "\n"
      ],
      "metadata": {
        "colab": {
          "base_uri": "https://localhost:8080/"
        },
        "id": "rrpL1WyPxirn",
        "outputId": "ea826412-7d69-464d-c7f0-85649e827853"
      },
      "execution_count": 19,
      "outputs": [
        {
          "output_type": "execute_result",
          "data": {
            "text/plain": [
              "[29, 33, 34, 37, 39, 40, 42]"
            ]
          },
          "metadata": {},
          "execution_count": 19
        }
      ]
    },
    {
      "cell_type": "code",
      "source": [
        "def swapList(newList):\n",
        "    size = len(newList)\n",
        "\n",
        "    # Swapping\n",
        "    temp = newList[0]\n",
        "    newList[0] = newList[size - 1]\n",
        "    newList[size - 1] = temp\n",
        "\n",
        "    return newList\n",
        "\n",
        "newList = [29, 33, 34, 37, 39, 40, 42]\n",
        "\n",
        "print(swapList(newList))\n",
        "\n"
      ],
      "metadata": {
        "colab": {
          "base_uri": "https://localhost:8080/"
        },
        "id": "kMGu63f73xWG",
        "outputId": "9dcf4a1e-84c0-489c-c696-09c8b6701d27"
      },
      "execution_count": 22,
      "outputs": [
        {
          "output_type": "stream",
          "name": "stdout",
          "text": [
            "[42, 33, 34, 37, 39, 40, 29]\n"
          ]
        }
      ]
    },
    {
      "cell_type": "code",
      "source": [
        "# Print the output list\n",
        "temperatures = [34, 40, 29, 33, 42, 37, 39 ]\n",
        "print(temperatures)\n"
      ],
      "metadata": {
        "colab": {
          "base_uri": "https://localhost:8080/"
        },
        "id": "oPrJ56Kj63OD",
        "outputId": "05fd299d-fc87-4a04-f166-cfd38465e80c"
      },
      "execution_count": 23,
      "outputs": [
        {
          "output_type": "stream",
          "name": "stdout",
          "text": [
            "[34, 40, 29, 33, 42, 37, 39]\n"
          ]
        }
      ]
    },
    {
      "cell_type": "code",
      "source": [],
      "metadata": {
        "id": "Bd4Nw8uo7Drk"
      },
      "execution_count": 36,
      "outputs": []
    },
    {
      "cell_type": "code",
      "source": [],
      "metadata": {
        "id": "4L0mBgdU7VGU"
      },
      "execution_count": null,
      "outputs": []
    },
    {
      "cell_type": "markdown",
      "source": [
        "## Problem 2\n",
        "Measures of Averages"
      ],
      "metadata": {
        "id": "EC7Q8Hdq8qZN"
      }
    },
    {
      "cell_type": "code",
      "source": [
        "# List of product prices\n",
        "\n",
        "prod_price_list = [400, 250, 800, 550, 600, 820, 720, 15000, 360,250]\n",
        "prod_price_list\n"
      ],
      "metadata": {
        "colab": {
          "base_uri": "https://localhost:8080/"
        },
        "id": "0b2EbL8M84NJ",
        "outputId": "7937da69-5b52-4c22-ab1f-31b23dab8fdd"
      },
      "execution_count": 37,
      "outputs": [
        {
          "output_type": "execute_result",
          "data": {
            "text/plain": [
              "[400, 250, 800, 550, 600, 820, 720, 15000, 360, 250]"
            ]
          },
          "metadata": {},
          "execution_count": 37
        }
      ]
    },
    {
      "cell_type": "code",
      "source": [
        "prod_price_list.sort()\n",
        "prod_price_list"
      ],
      "metadata": {
        "colab": {
          "base_uri": "https://localhost:8080/"
        },
        "id": "FdoI3sAL9sgJ",
        "outputId": "3c890758-cd99-486c-a772-f3baffb388b5"
      },
      "execution_count": 39,
      "outputs": [
        {
          "output_type": "execute_result",
          "data": {
            "text/plain": [
              "[250, 250, 360, 400, 550, 600, 720, 800, 820, 15000]"
            ]
          },
          "metadata": {},
          "execution_count": 39
        }
      ]
    },
    {
      "cell_type": "code",
      "source": [
        "# Calculate the mean of the product prices. Use list functions. Also print the mean_price\n",
        "n=10\n",
        "n\n"
      ],
      "metadata": {
        "colab": {
          "base_uri": "https://localhost:8080/"
        },
        "id": "PkHJIzGo-U1S",
        "outputId": "6bbda70e-9d45-465f-a626-0415793dd8be"
      },
      "execution_count": 44,
      "outputs": [
        {
          "output_type": "execute_result",
          "data": {
            "text/plain": [
              "10"
            ]
          },
          "metadata": {},
          "execution_count": 44
        }
      ]
    },
    {
      "cell_type": "code",
      "source": [
        "total_sum=250+250+360+400+550+600+720+800+820+15000\n",
        "total_sum"
      ],
      "metadata": {
        "colab": {
          "base_uri": "https://localhost:8080/"
        },
        "id": "BaqqExITACGi",
        "outputId": "97b7c368-342b-4e80-e091-9050d4e6a571"
      },
      "execution_count": 45,
      "outputs": [
        {
          "output_type": "execute_result",
          "data": {
            "text/plain": [
              "19750"
            ]
          },
          "metadata": {},
          "execution_count": 45
        }
      ]
    },
    {
      "cell_type": "code",
      "source": [
        "mean_price=total_sum/n\n",
        "mean_price"
      ],
      "metadata": {
        "colab": {
          "base_uri": "https://localhost:8080/"
        },
        "id": "zpbL3_mM_wtj",
        "outputId": "536239d2-8f63-4d47-d9a9-d690f17d5af0"
      },
      "execution_count": 46,
      "outputs": [
        {
          "output_type": "execute_result",
          "data": {
            "text/plain": [
              "1975.0"
            ]
          },
          "metadata": {},
          "execution_count": 46
        }
      ]
    },
    {
      "cell_type": "code",
      "source": [
        "# Step 1 - Obtain the sorted list. Print the sorted_prices\n",
        ""
      ],
      "metadata": {
        "id": "jRWAnW1MASNv"
      },
      "execution_count": null,
      "outputs": []
    },
    {
      "cell_type": "code",
      "source": [
        "prod_price_list.sort()\n",
        "prod_price_list"
      ],
      "metadata": {
        "colab": {
          "base_uri": "https://localhost:8080/"
        },
        "id": "EljEBqpRN8p4",
        "outputId": "91d5d1e4-5afd-43ca-cf5e-e92ca3367a33"
      },
      "execution_count": 47,
      "outputs": [
        {
          "output_type": "execute_result",
          "data": {
            "text/plain": [
              "[250, 250, 360, 400, 550, 600, 720, 800, 820, 15000]"
            ]
          },
          "metadata": {},
          "execution_count": 47
        }
      ]
    },
    {
      "cell_type": "code",
      "source": [
        "# Check if the number of elements in the list is even or odd\n",
        "prod_price = [400, 250, 800, 550, 600, 820, 720, 15000, 360,250]\n",
        "for i in prod_price:\n",
        "  if i % 2==0 :\n",
        "     print(\"Element is even\")\n",
        "  else:\n",
        "    print(\"Element is odd\")\n",
        "\n",
        "\n",
        "\n",
        "\n"
      ],
      "metadata": {
        "colab": {
          "base_uri": "https://localhost:8080/"
        },
        "id": "RXh1daPuN8jS",
        "outputId": "4f6fc36b-2201-4797-ce19-39ee87daf9b6"
      },
      "execution_count": 56,
      "outputs": [
        {
          "output_type": "stream",
          "name": "stdout",
          "text": [
            "Element is even\n",
            "Element is even\n",
            "Element is even\n",
            "Element is even\n",
            "Element is even\n",
            "Element is even\n",
            "Element is even\n",
            "Element is even\n",
            "Element is even\n",
            "Element is even\n"
          ]
        }
      ]
    },
    {
      "cell_type": "code",
      "source": [
        "# Use the corresponding formula to calculate the median and print the median\n",
        "median_price = (550+600)/2\n",
        "median_price\n"
      ],
      "metadata": {
        "colab": {
          "base_uri": "https://localhost:8080/"
        },
        "id": "4_KlOUlGRurP",
        "outputId": "5d592d18-e951-452e-c0d9-8d6f9eaafe34"
      },
      "execution_count": 57,
      "outputs": [
        {
          "output_type": "execute_result",
          "data": {
            "text/plain": [
              "575.0"
            ]
          },
          "metadata": {},
          "execution_count": 57
        }
      ]
    },
    {
      "cell_type": "code",
      "source": [
        "# Check which is greater, mean or median\n",
        "median=575\n",
        "mean=1975\n",
        "if mean > median :\n",
        "  print(\"mean is greater\")\n",
        "else:\n",
        "  print(\"median is greater\")\n",
        "\n",
        "\n"
      ],
      "metadata": {
        "colab": {
          "base_uri": "https://localhost:8080/"
        },
        "id": "gi2Cv6X8Svog",
        "outputId": "fb67cfdf-e6ba-4d75-ed1b-ed2f8da641fe"
      },
      "execution_count": 58,
      "outputs": [
        {
          "output_type": "stream",
          "name": "stdout",
          "text": [
            "mean is greater\n"
          ]
        }
      ]
    },
    {
      "cell_type": "markdown",
      "source": [
        "##Problem 3\n",
        "Having a nested list sometimes might be a bit problematic. An individual was asked to collect the names of companies in the technology sector. While creating the list, by mistake the last three companies were subsumed in a list as shown below. You are required to get rid of the nesting"
      ],
      "metadata": {
        "id": "HVhJljpWUY3a"
      }
    },
    {
      "cell_type": "code",
      "source": [
        "tech_companies = ['Qualcomm','Google','Apple',['Nvidia','Cisco','Samsung']]\n"
      ],
      "metadata": {
        "id": "ZXpJ0j9bUbyc"
      },
      "execution_count": null,
      "outputs": []
    }
  ]
}