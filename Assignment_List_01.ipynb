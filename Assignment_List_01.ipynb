{
  "nbformat": 4,
  "nbformat_minor": 0,
  "metadata": {
    "colab": {
      "provenance": [],
      "authorship_tag": "ABX9TyOdLR4cJyEuhL1TwBsdlpza",
      "include_colab_link": true
    },
    "kernelspec": {
      "name": "python3",
      "display_name": "Python 3"
    },
    "language_info": {
      "name": "python"
    }
  },
  "cells": [
    {
      "cell_type": "markdown",
      "metadata": {
        "id": "view-in-github",
        "colab_type": "text"
      },
      "source": [
        "<a href=\"https://colab.research.google.com/github/Sushant6862/Jeremy-Howard-Squadron-/blob/main/Assignment_List_01.ipynb\" target=\"_parent\"><img src=\"https://colab.research.google.com/assets/colab-badge.svg\" alt=\"Open In Colab\"/></a>"
      ]
    },
    {
      "cell_type": "code",
      "execution_count": null,
      "metadata": {
        "id": "aBwovROeuj89"
      },
      "outputs": [],
      "source": []
    },
    {
      "cell_type": "markdown",
      "source": [
        "### Problem 1\n",
        "A list contains the average daily temperature(in degree Celsius) of a city over a particular week. Write a Python code to swap the highest and the lowest temperatures."
      ],
      "metadata": {
        "id": "rHrJprpuvrHG"
      }
    },
    {
      "cell_type": "code",
      "source": [
        "# A list containing average daily temperature over a week\n",
        "temperatures = [34, 40, 29, 33, 42, 37, 39 ]\n",
        "\n",
        "# The expected output\n",
        "# output_temperatures = [34, 40, 42, 33, 29, 37, 39]"
      ],
      "metadata": {
        "id": "FXRj0crzv7pI"
      },
      "execution_count": 2,
      "outputs": []
    },
    {
      "cell_type": "code",
      "source": [
        "# Store the highest temperature\n",
        "max_temp = max(temperatures)\n",
        "max_temp\n"
      ],
      "metadata": {
        "colab": {
          "base_uri": "https://localhost:8080/"
        },
        "id": "FeTaXl5DwdX0",
        "outputId": "aaf5f863-6664-4656-943a-ce56befaa49e"
      },
      "execution_count": 6,
      "outputs": [
        {
          "output_type": "execute_result",
          "data": {
            "text/plain": [
              "42"
            ]
          },
          "metadata": {},
          "execution_count": 6
        }
      ]
    },
    {
      "cell_type": "code",
      "source": [
        "# Index of the element with the highest temperature\n",
        "temperatures.sort()\n",
        "\n",
        "max_temp_index = temperatures.index(42)\n",
        "max_temp_index"
      ],
      "metadata": {
        "colab": {
          "base_uri": "https://localhost:8080/"
        },
        "id": "TzzsHMfFwdMO",
        "outputId": "9f62e3c0-f4f3-4c74-e3ed-ee5d3f729b2e"
      },
      "execution_count": 33,
      "outputs": [
        {
          "output_type": "execute_result",
          "data": {
            "text/plain": [
              "6"
            ]
          },
          "metadata": {},
          "execution_count": 33
        }
      ]
    },
    {
      "cell_type": "code",
      "source": [
        "# Store the lowest temperature\n",
        "min_temp = min(temperatures)\n",
        "min_temp\n"
      ],
      "metadata": {
        "colab": {
          "base_uri": "https://localhost:8080/"
        },
        "id": "6fwggqiC1wVK",
        "outputId": "fefe01a0-3d01-461f-8e69-f36f1729b656"
      },
      "execution_count": 34,
      "outputs": [
        {
          "output_type": "execute_result",
          "data": {
            "text/plain": [
              "29"
            ]
          },
          "metadata": {},
          "execution_count": 34
        }
      ]
    },
    {
      "cell_type": "code",
      "source": [
        "# Index of the element with the lowest temperature\n",
        "min_temp_index = temperatures.index(29)\n",
        "min_temp_index"
      ],
      "metadata": {
        "colab": {
          "base_uri": "https://localhost:8080/"
        },
        "id": "jCGWQu228Edy",
        "outputId": "1f671906-ac9a-4d88-bff3-c8bee601aef2"
      },
      "execution_count": 36,
      "outputs": [
        {
          "output_type": "execute_result",
          "data": {
            "text/plain": [
              "0"
            ]
          },
          "metadata": {},
          "execution_count": 36
        }
      ]
    },
    {
      "cell_type": "code",
      "source": [
        "# Swap the highest and the lowest temperatures\n",
        "temperatures = [34, 40, 29, 33, 42, 37, 39 ]\n",
        "temperatures.sort()\n",
        "temperatures\n",
        "\n"
      ],
      "metadata": {
        "colab": {
          "base_uri": "https://localhost:8080/"
        },
        "id": "rrpL1WyPxirn",
        "outputId": "ea826412-7d69-464d-c7f0-85649e827853"
      },
      "execution_count": 19,
      "outputs": [
        {
          "output_type": "execute_result",
          "data": {
            "text/plain": [
              "[29, 33, 34, 37, 39, 40, 42]"
            ]
          },
          "metadata": {},
          "execution_count": 19
        }
      ]
    },
    {
      "cell_type": "code",
      "source": [
        "def swapList(newList):\n",
        "    size = len(newList)\n",
        "\n",
        "    # Swapping\n",
        "    temp = newList[0]\n",
        "    newList[0] = newList[size - 1]\n",
        "    newList[size - 1] = temp\n",
        "\n",
        "    return newList\n",
        "\n",
        "newList = [29, 33, 34, 37, 39, 40, 42]\n",
        "\n",
        "print(swapList(newList))\n",
        "\n"
      ],
      "metadata": {
        "colab": {
          "base_uri": "https://localhost:8080/"
        },
        "id": "kMGu63f73xWG",
        "outputId": "9dcf4a1e-84c0-489c-c696-09c8b6701d27"
      },
      "execution_count": 22,
      "outputs": [
        {
          "output_type": "stream",
          "name": "stdout",
          "text": [
            "[42, 33, 34, 37, 39, 40, 29]\n"
          ]
        }
      ]
    },
    {
      "cell_type": "code",
      "source": [
        "# Print the output list\n",
        "temperatures = [34, 40, 29, 33, 42, 37, 39 ]\n",
        "print(temperatures)\n"
      ],
      "metadata": {
        "colab": {
          "base_uri": "https://localhost:8080/"
        },
        "id": "oPrJ56Kj63OD",
        "outputId": "05fd299d-fc87-4a04-f166-cfd38465e80c"
      },
      "execution_count": 23,
      "outputs": [
        {
          "output_type": "stream",
          "name": "stdout",
          "text": [
            "[34, 40, 29, 33, 42, 37, 39]\n"
          ]
        }
      ]
    },
    {
      "cell_type": "code",
      "source": [],
      "metadata": {
        "id": "Bd4Nw8uo7Drk"
      },
      "execution_count": 36,
      "outputs": []
    },
    {
      "cell_type": "code",
      "source": [],
      "metadata": {
        "id": "4L0mBgdU7VGU"
      },
      "execution_count": null,
      "outputs": []
    },
    {
      "cell_type": "markdown",
      "source": [
        "## Problem 2\n",
        "Measures of Averages"
      ],
      "metadata": {
        "id": "EC7Q8Hdq8qZN"
      }
    },
    {
      "cell_type": "code",
      "source": [],
      "metadata": {
        "id": "0b2EbL8M84NJ"
      },
      "execution_count": null,
      "outputs": []
    }
  ]
}