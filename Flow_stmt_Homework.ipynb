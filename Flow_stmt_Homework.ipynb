{
  "nbformat": 4,
  "nbformat_minor": 0,
  "metadata": {
    "colab": {
      "provenance": [],
      "authorship_tag": "ABX9TyOx2mT4SMuf4PFN4eI3tTZk",
      "include_colab_link": true
    },
    "kernelspec": {
      "name": "python3",
      "display_name": "Python 3"
    },
    "language_info": {
      "name": "python"
    }
  },
  "cells": [
    {
      "cell_type": "markdown",
      "metadata": {
        "id": "view-in-github",
        "colab_type": "text"
      },
      "source": [
        "<a href=\"https://colab.research.google.com/github/Sushant6862/Jeremy-Howard-Squadron-/blob/main/Flow_stmt_Homework.ipynb\" target=\"_parent\"><img src=\"https://colab.research.google.com/assets/colab-badge.svg\" alt=\"Open In Colab\"/></a>"
      ]
    },
    {
      "cell_type": "code",
      "execution_count": null,
      "metadata": {
        "id": "_hIpwaxheEcK"
      },
      "outputs": [],
      "source": []
    },
    {
      "cell_type": "markdown",
      "source": [
        "# Homework\n"
      ],
      "metadata": {
        "id": "3VxFc2Oue3-v"
      }
    },
    {
      "cell_type": "code",
      "source": [
        "# Write a Program to find Biggest of given 3 Numbers from the Commad Prompt?\n",
        "\n",
        "n1=int(input(\"EnterFirstNumber:\"))\n",
        "n2=int(input(\"EnterSecondNumber:\"))\n",
        "n3=int(input(\"EnterThirdNumber\"))\n",
        "if n1>n2:\n",
        "  print(\"Biggest Number is:\",n1)\n",
        "elif n2>n3:\n",
        "  print(\"Biggest Number is:\",n2)\n",
        "else:\n",
        "  print(\"Biggest Number is:\",n3)"
      ],
      "metadata": {
        "colab": {
          "base_uri": "https://localhost:8080/"
        },
        "id": "DXmXbPG5e6of",
        "outputId": "e059ef01-6bc9-4e42-befb-8ebc53a8275c"
      },
      "execution_count": null,
      "outputs": [
        {
          "output_type": "stream",
          "name": "stdout",
          "text": [
            "EnterFirstNumber:25\n",
            "EnterSecondNumber:20\n",
            "EnterThirdNumber22\n",
            "Biggest Number is: 25\n"
          ]
        }
      ]
    },
    {
      "cell_type": "code",
      "source": [
        "# Write a program to find smallest of given 2 numbers?\n",
        "n1=int(input(\"EnterFirstNumber:\"))\n",
        "n2=int(input(\"EnterSecondNumber:\"))\n",
        "Minimun=min(n1,n2)\n",
        "print(\"Smallest number is:\",Minimun)\n"
      ],
      "metadata": {
        "colab": {
          "base_uri": "https://localhost:8080/"
        },
        "id": "In6dRMEmgVjH",
        "outputId": "2470ad08-17a8-41c4-be96-92508176c7cb"
      },
      "execution_count": null,
      "outputs": [
        {
          "output_type": "stream",
          "name": "stdout",
          "text": [
            "EnterFirstNumber:5\n",
            "EnterSecondNumber:10\n",
            "Smallest number is: 5\n"
          ]
        }
      ]
    },
    {
      "cell_type": "code",
      "source": [
        "# Write a program to find smallest of given 3 numbers?\n",
        "n1=int(input(\"EnterFirstNumber:\"))\n",
        "n2=int(input(\"EnterSecondNumber:\"))\n",
        "n3=int(input(\"EnterThirdNumber\"))\n",
        "if n1<n2 and n1<n3:\n",
        "  print(\"Smallest Number is:\",n1)\n",
        "elif n2<n3:\n",
        "  print(\"Smallest Number is:\",n2)\n",
        "else:\n",
        "  print(\"Smallest Number is:\",n3)\n"
      ],
      "metadata": {
        "colab": {
          "base_uri": "https://localhost:8080/"
        },
        "id": "2HOOAGhQiRbt",
        "outputId": "f4db49a1-e85e-4c94-f275-7ab593686f41"
      },
      "execution_count": null,
      "outputs": [
        {
          "output_type": "stream",
          "name": "stdout",
          "text": [
            "EnterFirstNumber:20\n",
            "EnterSecondNumber:10\n",
            "EnterThirdNumber30\n",
            "Smallest Number is: 10\n"
          ]
        }
      ]
    },
    {
      "cell_type": "code",
      "source": [
        "# Write a program to check whether the given number is even or odd?\n",
        "n1=int(input(\"EnterFirstNumber:\"))\n",
        "if (n1%2==0):\n",
        "  print(\"Number is Even\")\n",
        "else:\n",
        "    print(\"Number is Odd\")"
      ],
      "metadata": {
        "colab": {
          "base_uri": "https://localhost:8080/"
        },
        "id": "2VcVToqanvPZ",
        "outputId": "c9746965-dea5-4ea8-c971-bb848505b587"
      },
      "execution_count": null,
      "outputs": [
        {
          "output_type": "stream",
          "name": "stdout",
          "text": [
            "EnterFirstNumber:5\n",
            "Number is Odd\n"
          ]
        }
      ]
    },
    {
      "cell_type": "code",
      "source": [
        "# Write a Program to dispaly *'s in Right Angled Triangled Form\n",
        "x=int(input(\"Enter row number=\\n\"))\n",
        "for i in range(x):\n",
        "    for j in range(i+1):\n",
        "        print(\"#\",end='')\n",
        "    print(\"\")\n",
        "\n"
      ],
      "metadata": {
        "colab": {
          "base_uri": "https://localhost:8080/"
        },
        "id": "Y-JLEDvuuQVn",
        "outputId": "02140636-19a1-4531-aa0f-7ffc066e159a"
      },
      "execution_count": null,
      "outputs": [
        {
          "output_type": "stream",
          "name": "stdout",
          "text": [
            "Enter row number=\n",
            "5\n",
            "#\n",
            "##\n",
            "###\n",
            "####\n",
            "#####\n"
          ]
        }
      ]
    },
    {
      "cell_type": "markdown",
      "source": [
        "# Mock Interview Question\n"
      ],
      "metadata": {
        "id": "jzmgWjFak-jy"
      }
    },
    {
      "cell_type": "code",
      "source": [
        "# Largest Element in the list\n",
        "n=[10,20,30,20,50]\n",
        "print(\"The maximun number is:\",max(n))"
      ],
      "metadata": {
        "colab": {
          "base_uri": "https://localhost:8080/"
        },
        "id": "QicximQqlGEI",
        "outputId": "8cc2874a-b2db-41f6-8e04-e092175e36c4"
      },
      "execution_count": 4,
      "outputs": [
        {
          "output_type": "stream",
          "name": "stdout",
          "text": [
            "The maximun number is: 50\n"
          ]
        }
      ]
    },
    {
      "cell_type": "code",
      "source": [
        "n.sort()\n",
        "print(n[-1])"
      ],
      "metadata": {
        "colab": {
          "base_uri": "https://localhost:8080/"
        },
        "id": "5i_0J1AOl2Ux",
        "outputId": "0a5ef9d8-9263-4011-a8e1-3f0c04a59201"
      },
      "execution_count": 5,
      "outputs": [
        {
          "output_type": "stream",
          "name": "stdout",
          "text": [
            "50\n"
          ]
        }
      ]
    },
    {
      "cell_type": "code",
      "source": [
        "# Python3 program to swap first\n",
        "# and last element of a list\n",
        "\n",
        "# Swap function\n",
        "def swapList(newList):\n",
        "    size = len(newList)\n",
        "\n",
        "    # Swapping\n",
        "    temp = newList[0]\n",
        "    newList[0] = newList[size - 1]\n",
        "    newList[size - 1] = temp\n",
        "\n",
        "    return newList\n",
        "\n",
        "# Driver code\n",
        "newList = [12, 35, 9, 56, 24]\n",
        "\n",
        "print(swapList(newList))"
      ],
      "metadata": {
        "colab": {
          "base_uri": "https://localhost:8080/"
        },
        "id": "3sZkk1cOokHy",
        "outputId": "eee57a61-19f5-48bf-e8bb-ad31820030dc"
      },
      "execution_count": 6,
      "outputs": [
        {
          "output_type": "stream",
          "name": "stdout",
          "text": [
            "[24, 35, 9, 56, 12]\n"
          ]
        }
      ]
    },
    {
      "cell_type": "code",
      "source": [
        "def swapList(newList):\n",
        "\n",
        "    newList[0], newList[-1] = newList[-1], newList[0]\n",
        "\n",
        "    return newList\n",
        "\n",
        "# Driver code\n",
        "newList = [12, 35, 9, 56, 24]\n",
        "print(swapList(newList))"
      ],
      "metadata": {
        "colab": {
          "base_uri": "https://localhost:8080/"
        },
        "id": "RYsZ_hhWq95m",
        "outputId": "23738f05-a219-4920-d75d-da9580ae7cc9"
      },
      "execution_count": 13,
      "outputs": [
        {
          "output_type": "stream",
          "name": "stdout",
          "text": [
            "[24, 35, 9, 56, 12]\n"
          ]
        }
      ]
    },
    {
      "cell_type": "code",
      "source": [
        "# length of list\n",
        "n=[10,20,30,40]\n",
        "print(len(n))\n"
      ],
      "metadata": {
        "colab": {
          "base_uri": "https://localhost:8080/"
        },
        "id": "HoBwOx2Hq-5u",
        "outputId": "2787a0e7-90b0-4fbc-8a1e-a41014727496"
      },
      "execution_count": 14,
      "outputs": [
        {
          "output_type": "stream",
          "name": "stdout",
          "text": [
            "4\n"
          ]
        }
      ]
    },
    {
      "cell_type": "code",
      "source": [
        "# reverse of list\n",
        "n.reverse()\n",
        "print(n)"
      ],
      "metadata": {
        "colab": {
          "base_uri": "https://localhost:8080/"
        },
        "id": "Sso4UzoovMVm",
        "outputId": "6cb65f00-ef39-42bd-bf03-447a17792a61"
      },
      "execution_count": 15,
      "outputs": [
        {
          "output_type": "stream",
          "name": "stdout",
          "text": [
            "[40, 30, 20, 10]\n"
          ]
        }
      ]
    },
    {
      "cell_type": "code",
      "source": [
        "#  occurance of list\n",
        "n1=[1,2,2,2,2,3,3,3]\n",
        "print(n1.count(1))\n",
        "print(n1.count(2))\n",
        "print(n1.count(3))"
      ],
      "metadata": {
        "colab": {
          "base_uri": "https://localhost:8080/"
        },
        "id": "zSnNmrNFvhj2",
        "outputId": "c65b15a5-a802-42d3-e27a-5a7e6854d2c0"
      },
      "execution_count": 18,
      "outputs": [
        {
          "output_type": "stream",
          "name": "stdout",
          "text": [
            "1\n",
            "4\n",
            "3\n"
          ]
        }
      ]
    },
    {
      "cell_type": "code",
      "source": [
        "# # Python program to find sum of elements in list\n",
        "list1 = [11, 5, 17, 18, 23]\n",
        "total=0\n",
        "for i in range(0, len(list1)):\n",
        "    total = total + list1[i]\n",
        "\n",
        "# printing total value\n",
        "print(\"Sum of all elements in given list: \", total)"
      ],
      "metadata": {
        "colab": {
          "base_uri": "https://localhost:8080/"
        },
        "id": "hsAbTRrgvrm9",
        "outputId": "d8ff51ae-4743-4917-bd44-6a425944c11d"
      },
      "execution_count": 19,
      "outputs": [
        {
          "output_type": "stream",
          "name": "stdout",
          "text": [
            "Sum of all elements in given list:  74\n"
          ]
        }
      ]
    },
    {
      "cell_type": "code",
      "source": [
        "#  Python program to find sum of elements in list\n",
        "from operator import*\n",
        "list1 = [ 1,2, 3,4]\n",
        "m = 1\n",
        "for i in list1:\n",
        "  # multiplying all elements in the given list\n",
        "  # using mul function of operator module\n",
        "    m = mul(i, m)\n",
        "# printing the result\n",
        "print(m)"
      ],
      "metadata": {
        "colab": {
          "base_uri": "https://localhost:8080/"
        },
        "id": "WekMjVoDxwh1",
        "outputId": "ba84cc0a-6d60-4042-f917-daf6f54527a8"
      },
      "execution_count": 23,
      "outputs": [
        {
          "output_type": "stream",
          "name": "stdout",
          "text": [
            "24\n"
          ]
        }
      ]
    },
    {
      "cell_type": "code",
      "source": [
        "import math\n",
        "list1 = [1, 2, 3]\n",
        "# list2 = [3, 2, 4]\n",
        "\n",
        "\n",
        "result1 = math.prod(list1)\n",
        "# result2 = math.prod(list2)\n",
        "print(result1)\n",
        "# print(result2)"
      ],
      "metadata": {
        "colab": {
          "base_uri": "https://localhost:8080/"
        },
        "id": "hANt2Sm71d2e",
        "outputId": "ab8880ff-1bc4-4c22-9431-d72fa17996a9"
      },
      "execution_count": 24,
      "outputs": [
        {
          "output_type": "stream",
          "name": "stdout",
          "text": [
            "6\n"
          ]
        }
      ]
    },
    {
      "cell_type": "code",
      "source": [
        "#  Maximun and minimun without using inbulit method\n",
        "n=[1,2,4,6,5,8,10]\n",
        "n.sort()\n",
        "print(\"max:\",n[-1],\"Min:\",n[0])"
      ],
      "metadata": {
        "colab": {
          "base_uri": "https://localhost:8080/"
        },
        "id": "viTD6ieG574E",
        "outputId": "64759723-7dc1-40da-d951-4de8d40309ed"
      },
      "execution_count": 25,
      "outputs": [
        {
          "output_type": "stream",
          "name": "stdout",
          "text": [
            "max: 10 Min: 1\n"
          ]
        }
      ]
    },
    {
      "cell_type": "code",
      "source": [
        "max=n[0]\n",
        "min=n[0]\n",
        "for i in n:\n",
        "  if i>max:\n",
        "    max=i\n",
        "if i <min:\n",
        "  min=i\n",
        "\n",
        "print(\"max:\",max,\"Min:\",min)\n"
      ],
      "metadata": {
        "colab": {
          "base_uri": "https://localhost:8080/"
        },
        "id": "NpOiDJ1L653V",
        "outputId": "b22d4fe5-adc1-41f1-c76e-acd3ae61ec2a"
      },
      "execution_count": 28,
      "outputs": [
        {
          "output_type": "stream",
          "name": "stdout",
          "text": [
            "max: 10 Min: 1\n"
          ]
        }
      ]
    },
    {
      "cell_type": "code",
      "source": [
        "# # Python3 program to swap elements\n",
        "# at given positions\n",
        "\n",
        "# Swap function\n",
        "def swapPositions(list, pos1, pos2):\n",
        "\n",
        "    list[pos1], list[pos2] = list[pos2], list[pos1]\n",
        "    return list\n",
        "\n",
        "# Driver function\n",
        "List = [23, 65, 19, 90]\n",
        "pos1, pos2  = 2, 4\n",
        "\n",
        "print(swapPositions(List, pos1-1, pos2-1))"
      ],
      "metadata": {
        "colab": {
          "base_uri": "https://localhost:8080/"
        },
        "id": "KHm51Hok7yBy",
        "outputId": "62182696-23b7-4415-e8da-bd8e13ddeccf"
      },
      "execution_count": 30,
      "outputs": [
        {
          "output_type": "stream",
          "name": "stdout",
          "text": [
            "[23, 90, 19, 65]\n"
          ]
        }
      ]
    },
    {
      "cell_type": "code",
      "source": [
        "# Area of circle:\n",
        "π = 3.14\n",
        "Radius = float (input (\"Please enter the radius of the given circle: \"))\n",
        "area_of_the_circle = π * Radius * Radius\n",
        "print (\" The area of the given circle is: \", area_of_the_circle)"
      ],
      "metadata": {
        "colab": {
          "base_uri": "https://localhost:8080/"
        },
        "id": "zpXE-BrYBY6N",
        "outputId": "fb03721d-66b0-42b1-8b28-aeb606b4ca14"
      },
      "execution_count": 31,
      "outputs": [
        {
          "output_type": "stream",
          "name": "stdout",
          "text": [
            "Please enter the radius of the given circle: 4\n",
            " The area of the given circle is:  50.24\n"
          ]
        }
      ]
    },
    {
      "cell_type": "code",
      "source": [
        "import math as M\n",
        "Radius = float (input (\"Please enter the radius of the given circle: \"))\n",
        "area_of_the_circle = M.pi* Radius * Radius\n",
        "print (\" The area of the given circle is: \", area_of_the_circle)"
      ],
      "metadata": {
        "colab": {
          "base_uri": "https://localhost:8080/"
        },
        "id": "Xk4DvhmrBiMI",
        "outputId": "191fed98-b399-4b72-df53-c12179a3f20c"
      },
      "execution_count": 32,
      "outputs": [
        {
          "output_type": "stream",
          "name": "stdout",
          "text": [
            "Please enter the radius of the given circle: 4\n",
            " The area of the given circle is:  50.26548245743669\n"
          ]
        }
      ]
    },
    {
      "cell_type": "code",
      "source": [
        "import math\n",
        "def area(r):\n",
        "  area = math.pi* pow(r,2)\n",
        "  return print('Area of circle is:' ,area)\n",
        "area(4)"
      ],
      "metadata": {
        "colab": {
          "base_uri": "https://localhost:8080/"
        },
        "id": "9Ijjvc5kBntM",
        "outputId": "d565a6b8-c7d8-4c52-ad10-85b6d17498ee"
      },
      "execution_count": 33,
      "outputs": [
        {
          "output_type": "stream",
          "name": "stdout",
          "text": [
            "Area of circle is: 50.26548245743669\n"
          ]
        }
      ]
    },
    {
      "cell_type": "code",
      "source": [
        "def findArea(r):\n",
        "    PI = 3.142\n",
        "    return PI * (r*r);\n",
        "\n",
        "# Driver method\n",
        "print(\"Area is %.6f\" % findArea(5));"
      ],
      "metadata": {
        "colab": {
          "base_uri": "https://localhost:8080/"
        },
        "id": "gt5MGTYIB8mL",
        "outputId": "f21b77c9-b3ea-4b46-983b-5343408798eb"
      },
      "execution_count": 34,
      "outputs": [
        {
          "output_type": "stream",
          "name": "stdout",
          "text": [
            "Area is 78.550000\n"
          ]
        }
      ]
    },
    {
      "cell_type": "code",
      "source": [],
      "metadata": {
        "id": "cIFII8DDCIkk"
      },
      "execution_count": null,
      "outputs": []
    }
  ]
}