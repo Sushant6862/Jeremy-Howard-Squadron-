{
  "nbformat": 4,
  "nbformat_minor": 0,
  "metadata": {
    "colab": {
      "provenance": [],
      "authorship_tag": "ABX9TyNisCjEQsa8wz2Xi8Joswsc",
      "include_colab_link": true
    },
    "kernelspec": {
      "name": "python3",
      "display_name": "Python 3"
    },
    "language_info": {
      "name": "python"
    }
  },
  "cells": [
    {
      "cell_type": "markdown",
      "metadata": {
        "id": "view-in-github",
        "colab_type": "text"
      },
      "source": [
        "<a href=\"https://colab.research.google.com/github/Sushant6862/Jeremy-Howard-Squadron-/blob/main/Flow_stmt_Homework.ipynb\" target=\"_parent\"><img src=\"https://colab.research.google.com/assets/colab-badge.svg\" alt=\"Open In Colab\"/></a>"
      ]
    },
    {
      "cell_type": "code",
      "execution_count": null,
      "metadata": {
        "id": "_hIpwaxheEcK"
      },
      "outputs": [],
      "source": []
    },
    {
      "cell_type": "markdown",
      "source": [
        "# Homework\n"
      ],
      "metadata": {
        "id": "3VxFc2Oue3-v"
      }
    },
    {
      "cell_type": "code",
      "source": [
        "# Write a Program to find Biggest of given 3 Numbers from the Commad Prompt?\n",
        "\n",
        "n1=int(input(\"EnterFirstNumber:\"))\n",
        "n2=int(input(\"EnterSecondNumber:\"))\n",
        "n3=int(input(\"EnterThirdNumber\"))\n",
        "if n1>n2:\n",
        "  print(\"Biggest Number is:\",n1)\n",
        "elif n2>n3:\n",
        "  print(\"Biggest Number is:\",n2)\n",
        "else:\n",
        "  print(\"Biggest Number is:\",n3)"
      ],
      "metadata": {
        "colab": {
          "base_uri": "https://localhost:8080/"
        },
        "id": "DXmXbPG5e6of",
        "outputId": "e059ef01-6bc9-4e42-befb-8ebc53a8275c"
      },
      "execution_count": 7,
      "outputs": [
        {
          "output_type": "stream",
          "name": "stdout",
          "text": [
            "EnterFirstNumber:25\n",
            "EnterSecondNumber:20\n",
            "EnterThirdNumber22\n",
            "Biggest Number is: 25\n"
          ]
        }
      ]
    },
    {
      "cell_type": "code",
      "source": [
        "# Write a program to find smallest of given 2 numbers?\n",
        "n1=int(input(\"EnterFirstNumber:\"))\n",
        "n2=int(input(\"EnterSecondNumber:\"))\n",
        "Minimun=min(n1,n2)\n",
        "print(\"Smallest number is:\",Minimun)\n"
      ],
      "metadata": {
        "colab": {
          "base_uri": "https://localhost:8080/"
        },
        "id": "In6dRMEmgVjH",
        "outputId": "2470ad08-17a8-41c4-be96-92508176c7cb"
      },
      "execution_count": 14,
      "outputs": [
        {
          "output_type": "stream",
          "name": "stdout",
          "text": [
            "EnterFirstNumber:5\n",
            "EnterSecondNumber:10\n",
            "Smallest number is: 5\n"
          ]
        }
      ]
    },
    {
      "cell_type": "code",
      "source": [
        "# Write a program to find smallest of given 3 numbers?\n",
        "n1=int(input(\"EnterFirstNumber:\"))\n",
        "n2=int(input(\"EnterSecondNumber:\"))\n",
        "n3=int(input(\"EnterThirdNumber\"))\n",
        "if n1<n2 and n1<n3:\n",
        "  print(\"Smallest Number is:\",n1)\n",
        "elif n2<n3:\n",
        "  print(\"Smallest Number is:\",n2)\n",
        "else:\n",
        "  print(\"Smallest Number is:\",n3)\n"
      ],
      "metadata": {
        "colab": {
          "base_uri": "https://localhost:8080/"
        },
        "id": "2HOOAGhQiRbt",
        "outputId": "f4db49a1-e85e-4c94-f275-7ab593686f41"
      },
      "execution_count": 16,
      "outputs": [
        {
          "output_type": "stream",
          "name": "stdout",
          "text": [
            "EnterFirstNumber:20\n",
            "EnterSecondNumber:10\n",
            "EnterThirdNumber30\n",
            "Smallest Number is: 10\n"
          ]
        }
      ]
    },
    {
      "cell_type": "code",
      "source": [
        "# Write a program to check whether the given number is even or odd?\n",
        "n1=int(input(\"EnterFirstNumber:\"))\n",
        "if (n1%2==0):\n",
        "  print(\"Number is Even\")\n",
        "else:\n",
        "    print(\"Number is Odd\")"
      ],
      "metadata": {
        "colab": {
          "base_uri": "https://localhost:8080/"
        },
        "id": "2VcVToqanvPZ",
        "outputId": "c9746965-dea5-4ea8-c971-bb848505b587"
      },
      "execution_count": 21,
      "outputs": [
        {
          "output_type": "stream",
          "name": "stdout",
          "text": [
            "EnterFirstNumber:5\n",
            "Number is Odd\n"
          ]
        }
      ]
    },
    {
      "cell_type": "code",
      "source": [
        "# Write a Program to dispaly *'s in Right Angled Triangled Form\n",
        "x=int(input(\"Enter row number=\\n\"))\n",
        "for i in range(x):\n",
        "    for j in range(i+1):\n",
        "        print(\"#\",end='')\n",
        "    print(\"\")\n",
        "\n"
      ],
      "metadata": {
        "colab": {
          "base_uri": "https://localhost:8080/"
        },
        "id": "Y-JLEDvuuQVn",
        "outputId": "02140636-19a1-4531-aa0f-7ffc066e159a"
      },
      "execution_count": 33,
      "outputs": [
        {
          "output_type": "stream",
          "name": "stdout",
          "text": [
            "Enter row number=\n",
            "5\n",
            "#\n",
            "##\n",
            "###\n",
            "####\n",
            "#####\n"
          ]
        }
      ]
    }
  ]
}